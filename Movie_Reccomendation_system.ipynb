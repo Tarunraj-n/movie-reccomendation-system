{
  "cells": [
    {
      "cell_type": "markdown",
      "metadata": {
        "id": "9ra5Lew5GXlr"
      },
      "source": [
        "#**Task-1**\n",
        "Import libraries and load dataset"
      ]
    },
    {
      "cell_type": "code",
      "execution_count": null,
      "metadata": {
        "id": "1lQlUv1mYD5A"
      },
      "outputs": [],
      "source": [
        "import pandas as pd\n",
        "import matplotlib.pyplot as plt\n",
        "from wordcloud import WordCloud"
      ]
    },
    {
      "cell_type": "code",
      "execution_count": null,
      "metadata": {
        "id": "Eyfvv0SWpHwv"
      },
      "outputs": [],
      "source": [
        "movies=pd.read_csv(\"/content/movies.csv\")\n",
        "ratings=pd.read_csv(\"/content/ratings.csv\")"
      ]
    },
    {
      "cell_type": "markdown",
      "source": [
        "movies.head()"
      ],
      "metadata": {
        "id": "sctxURPYpf8V"
      }
    },
    {
      "cell_type": "code",
      "execution_count": null,
      "metadata": {
        "id": "rbH1t-9CpmCs"
      },
      "outputs": [],
      "source": [
        "ratings.head()"
      ]
    },
    {
      "cell_type": "markdown",
      "metadata": {
        "id": "wHiFK-8ZGuUo"
      },
      "source": [
        "#Task-2\n",
        "Exploratory Data Analysis including:\n",
        "\n",
        "---> Understanding of distribution of the features available\n",
        "\n",
        "---> Finding unique users and movies\n",
        "\n",
        "---> Average rating and Total movies at genre level.\n",
        "\n",
        "---> Unique genres considered.."
      ]
    },
    {
      "cell_type": "code",
      "execution_count": null,
      "metadata": {
        "id": "ODAD8hr_pphl"
      },
      "outputs": [],
      "source": [
        "movies.info()"
      ]
    },
    {
      "cell_type": "code",
      "execution_count": null,
      "metadata": {
        "id": "lzkiGMbCptTf"
      },
      "outputs": [],
      "source": [
        "ratings.info()"
      ]
    },
    {
      "cell_type": "code",
      "execution_count": null,
      "metadata": {
        "id": "5KqSIojbpw_o"
      },
      "outputs": [],
      "source": [
        "movies.describe()"
      ]
    },
    {
      "cell_type": "code",
      "execution_count": null,
      "metadata": {
        "id": "SCbdSuXTp4x2"
      },
      "outputs": [],
      "source": [
        "ratings.describe()"
      ]
    },
    {
      "cell_type": "code",
      "execution_count": null,
      "metadata": {
        "id": "XHwZnLE3p8ym"
      },
      "outputs": [],
      "source": [
        "movies.shape"
      ]
    },
    {
      "cell_type": "code",
      "execution_count": null,
      "metadata": {
        "id": "HTPbFLOvrvij"
      },
      "outputs": [],
      "source": [
        "ratings.shape"
      ]
    },
    {
      "cell_type": "code",
      "execution_count": null,
      "metadata": {
        "id": "JLCX2-09GG_f"
      },
      "outputs": [],
      "source": [
        "# Understanding of distribution of the features available\n",
        "movies.columns"
      ]
    },
    {
      "cell_type": "code",
      "execution_count": null,
      "metadata": {
        "id": "OEUjtUUOHCaP"
      },
      "outputs": [],
      "source": [
        "ratings.columns"
      ]
    },
    {
      "cell_type": "code",
      "execution_count": null,
      "metadata": {
        "id": "WSvRWGuYHF4X"
      },
      "outputs": [],
      "source": [
        "movies.isnull().sum()"
      ]
    },
    {
      "cell_type": "code",
      "execution_count": null,
      "metadata": {
        "id": "kQQiFGX1HYPQ"
      },
      "outputs": [],
      "source": [
        "ratings.isnull().sum()"
      ]
    },
    {
      "cell_type": "code",
      "execution_count": null,
      "metadata": {
        "id": "JgVl12ozsSJk"
      },
      "outputs": [],
      "source": [
        "movies.isnull().any()"
      ]
    },
    {
      "cell_type": "code",
      "execution_count": null,
      "metadata": {
        "id": "ZtZ8S95DHn0X"
      },
      "outputs": [],
      "source": [
        "ratings.isnull().any()"
      ]
    },
    {
      "cell_type": "code",
      "execution_count": null,
      "metadata": {
        "id": "jrssp0l588Gm"
      },
      "outputs": [],
      "source": [
        "movies.duplicated()"
      ]
    },
    {
      "cell_type": "code",
      "execution_count": null,
      "metadata": {
        "id": "YZMg9XhQ_DJD"
      },
      "outputs": [],
      "source": [
        "ratings.duplicated()"
      ]
    },
    {
      "cell_type": "code",
      "execution_count": null,
      "metadata": {
        "id": "KXMYY5xs9Ung"
      },
      "outputs": [],
      "source": [
        "# Finding unique users and movies\n",
        "movies[\"title\"].unique()"
      ]
    },
    {
      "cell_type": "code",
      "execution_count": null,
      "metadata": {
        "id": "lsUDpvsmI50R"
      },
      "outputs": [],
      "source": [
        "ratings[\"userId\"].unique()"
      ]
    },
    {
      "cell_type": "code",
      "execution_count": null,
      "metadata": {
        "id": "CUPCqvCTJ5DP"
      },
      "outputs": [],
      "source": [
        "df=pd.merge(movies,ratings,how=\"left\",on=\"movieId\")\n",
        "df.head()"
      ]
    },
    {
      "cell_type": "code",
      "execution_count": null,
      "metadata": {
        "id": "FhWgqS_AJJC-"
      },
      "outputs": [],
      "source": [
        "#Average rating and Total movies at genre level\n",
        "average_ratings = df.groupby('genres')['rating'].mean()\n",
        "total_movies = df.groupby('genres')['movieId'].count()"
      ]
    },
    {
      "cell_type": "code",
      "execution_count": null,
      "metadata": {
        "id": "yP2SFuIZLhGk"
      },
      "outputs": [],
      "source": [
        "average_ratings"
      ]
    },
    {
      "cell_type": "code",
      "execution_count": null,
      "metadata": {
        "id": "htRd5PxqLlYh"
      },
      "outputs": [],
      "source": [
        "total_movies"
      ]
    },
    {
      "cell_type": "code",
      "execution_count": null,
      "metadata": {
        "id": "9L_SbZC9L4RC"
      },
      "outputs": [],
      "source": [
        "# Unique genres considered\n",
        "df[\"genres\"].unique()"
      ]
    },
    {
      "cell_type": "markdown",
      "source": [
        "## 1. Create a popularity-based recommender system at a genre level. The user will input a genre (g), minimum rating threshold (t) for a movie, and no. of recommendations(N) for which it should be recommended top N movies which are most popular within that genre (g) ordered by ratings in descending order where each movie has at least (t) reviews."
      ],
      "metadata": {
        "id": "buclWV8CltJ0"
      }
    },
    {
      "cell_type": "code",
      "source": [
        "## Removing year from the title for better interpretation\n",
        "remove=df['title'].str[:-7].reset_index()\n",
        "remove.head()"
      ],
      "metadata": {
        "id": "Vec1O-SflxHk"
      },
      "execution_count": null,
      "outputs": []
    },
    {
      "cell_type": "code",
      "source": [
        "df['title']=remove['title']\n",
        "df.head()"
      ],
      "metadata": {
        "id": "4TnfbBMhnO-j"
      },
      "execution_count": null,
      "outputs": []
    },
    {
      "cell_type": "code",
      "source": [
        "#Calculate mean rating of all movies\n",
        "ratings_mean=df.groupby(['title','genres'])['rating'].mean().sort_values(ascending=False)\n",
        "ratings_mean"
      ],
      "metadata": {
        "id": "vkT3lXD1nm80"
      },
      "execution_count": null,
      "outputs": []
    },
    {
      "cell_type": "code",
      "source": [
        "#Calculate count rating of all movies\n",
        "ratings_count=df.groupby(['title','genres'])['rating'].count().sort_values(ascending=False)\n",
        "ratings_count"
      ],
      "metadata": {
        "id": "beAy8Tdan1FM"
      },
      "execution_count": null,
      "outputs": []
    },
    {
      "cell_type": "code",
      "source": [
        "#Creating dataframe with 'rating' count values\n",
        "ratings = pd.DataFrame(ratings_mean)\n",
        "ratings.head(10)"
      ],
      "metadata": {
        "id": "uRpwVTjDn_-F"
      },
      "execution_count": null,
      "outputs": []
    },
    {
      "cell_type": "code",
      "source": [
        "ratings['num of ratings'] = pd.DataFrame(ratings_count)\n",
        "ratings.head(10)"
      ],
      "metadata": {
        "id": "7iZ_YS6NoMSQ"
      },
      "execution_count": null,
      "outputs": []
    },
    {
      "cell_type": "code",
      "source": [
        "popular_movies=ratings.sort_values('num of ratings',ascending=False).reset_index()\n",
        "popular_movies.head(10)"
      ],
      "metadata": {
        "id": "SF7pqwVtoj4v"
      },
      "execution_count": null,
      "outputs": []
    },
    {
      "cell_type": "code",
      "source": [
        "def min_reviews_threshold_data(genre,min_reviews_threshold,No_of_recommendations):\n",
        "    genres_data=popular_movies[popular_movies['genres']=='Comedy'].reset_index()\n",
        "    pre_final_data=genres_data[genres_data['num of ratings']>100]\n",
        "    data=pre_final_data.drop(columns=['index','genres'])[:No_of_recommendations]\n",
        "    final_data=data.rename(columns={'title':'Movie Title','rating':'Average Movie Rating Num','num of ratings':'Reviews'})\n",
        "    return final_data"
      ],
      "metadata": {
        "id": "lfgQgMSJoxsj"
      },
      "execution_count": null,
      "outputs": []
    },
    {
      "cell_type": "code",
      "source": [
        "min_reviews_threshold_data('Comedy',100,5)"
      ],
      "metadata": {
        "id": "D_mbRAm6pKlc"
      },
      "execution_count": null,
      "outputs": []
    },
    {
      "cell_type": "markdown",
      "source": [
        "## 2. Create a content-based recommender system that recommends top N movies based on similar movie(m) genres."
      ],
      "metadata": {
        "id": "lZXU2dbOqZjP"
      }
    },
    {
      "cell_type": "code",
      "source": [
        "df.head()"
      ],
      "metadata": {
        "id": "HmyJVhawqY4G"
      },
      "execution_count": null,
      "outputs": []
    },
    {
      "cell_type": "code",
      "source": [
        "movie='Toy Story'\n",
        "genre=df[df.title==movie]\n",
        "genre.head(10)"
      ],
      "metadata": {
        "id": "6hy5HoHtqn0U"
      },
      "execution_count": null,
      "outputs": []
    },
    {
      "cell_type": "code",
      "source": [
        "genre=df[df.title=='Toy Story']\n",
        "unique_genre=genre.genres.unique()[0]\n",
        "unique_genre"
      ],
      "metadata": {
        "colab": {
          "base_uri": "https://localhost:8080/",
          "height": 35
        },
        "id": "_gWh3q0MrF5L",
        "outputId": "95507cf7-af8d-404a-aa14-05d3edad77b0"
      },
      "execution_count": null,
      "outputs": [
        {
          "output_type": "execute_result",
          "data": {
            "text/plain": [
              "'Adventure|Animation|Children|Comedy|Fantasy'"
            ],
            "application/vnd.google.colaboratory.intrinsic+json": {
              "type": "string"
            }
          },
          "metadata": {},
          "execution_count": 96
        }
      ]
    },
    {
      "cell_type": "code",
      "source": [
        "genres_based=df[df.genres==unique_genre]\n",
        "genres_based"
      ],
      "metadata": {
        "id": "PwBSW2onrspH"
      },
      "execution_count": null,
      "outputs": []
    },
    {
      "cell_type": "code",
      "source": [
        "new=genres_based.groupby(['title','genres'])['movieId'].count().reset_index().sort_values('movieId',ascending=False)\n",
        "abc_set_index=new.set_index('title')\n",
        "abc_set_index"
      ],
      "metadata": {
        "id": "PnwxFlWxsOOP"
      },
      "execution_count": null,
      "outputs": []
    },
    {
      "cell_type": "code",
      "source": [
        "abc_set_index.drop(['Toy Story'],axis=0,inplace=True)\n",
        "abc_set_index[:10]"
      ],
      "metadata": {
        "id": "mlXpBDvGstx2"
      },
      "execution_count": null,
      "outputs": []
    },
    {
      "cell_type": "code",
      "source": [
        "def content_based_filtering(movie_title,no_of_recos):\n",
        "    check_genre=df[df.title==movie_title]\n",
        "    unique_genre=check_genre.genres.unique()[0]\n",
        "    new=genres_based.groupby(['title','genres'])['movieId'].count().reset_index().sort_values('movieId',ascending=False)\n",
        "    abc_set_index=new.set_index('title')\n",
        "    abc_set_index.drop([movie_title],axis=0,inplace=True)\n",
        "    mask_indices=abc_set_index.drop(columns=['movieId','genres']).reset_index()[:no_of_recos]\n",
        "    return mask_indices"
      ],
      "metadata": {
        "id": "iyeVk8wftAgR"
      },
      "execution_count": null,
      "outputs": []
    },
    {
      "cell_type": "code",
      "source": [
        "content_based_filtering('Shrek the Third',5)"
      ],
      "metadata": {
        "id": "W4lk5EZUtQkU"
      },
      "execution_count": null,
      "outputs": []
    },
    {
      "cell_type": "markdown",
      "source": [
        "## 3. Create a collaborative based recommender system which recommends top N movies based on “K” similar users"
      ],
      "metadata": {
        "id": "Q9bOfThIGsTO"
      }
    },
    {
      "cell_type": "code",
      "source": [
        "vc=df.movieId.value_counts()  #Based on movie id, how many times the user id's repeated... ratings given\n",
        "vc"
      ],
      "metadata": {
        "id": "4bGM5d1NGh8X"
      },
      "execution_count": null,
      "outputs": []
    },
    {
      "cell_type": "code",
      "source": [
        "ac=df.userId.value_counts()  #Based on user id, how many times the user id's repeated... ratings given\n",
        "ac"
      ],
      "metadata": {
        "id": "NCvReusoTrPj"
      },
      "execution_count": null,
      "outputs": []
    },
    {
      "cell_type": "code",
      "source": [
        "vc[vc>50]"
      ],
      "metadata": {
        "id": "pvwTtH3GT9lz"
      },
      "execution_count": null,
      "outputs": []
    },
    {
      "cell_type": "code",
      "source": [
        "popular_movies=vc[vc>50].index   #Here Iam taking 50 for popular movies\n",
        "popular_movies"
      ],
      "metadata": {
        "id": "OlhANpZfUA5Q"
      },
      "execution_count": null,
      "outputs": []
    },
    {
      "cell_type": "code",
      "source": [
        "ac.median()"
      ],
      "metadata": {
        "id": "T0xX62aZYboi"
      },
      "execution_count": null,
      "outputs": []
    },
    {
      "cell_type": "code",
      "source": [
        "prolific_users=ac[ac>200].index                     #Here Iam taking 300 for popular/prolific users\n",
        "prolific_users=prolific_users.astype(\"int64\")\n",
        "prolific_users"
      ],
      "metadata": {
        "id": "oDPMqdWNYhsI"
      },
      "execution_count": null,
      "outputs": []
    },
    {
      "cell_type": "code",
      "source": [
        "df[df.userId.isin(prolific_users)] #checking overall merged_dataset with prolific users"
      ],
      "metadata": {
        "id": "sUAolTJAaSFr"
      },
      "execution_count": null,
      "outputs": []
    },
    {
      "cell_type": "code",
      "source": [
        "final_ratings=df[df.userId.isin(prolific_users) & df.movieId.isin(popular_movies)]\n",
        "final_ratings.tail()"
      ],
      "metadata": {
        "id": "Gd4Vtd_JalOD"
      },
      "execution_count": null,
      "outputs": []
    },
    {
      "cell_type": "code",
      "source": [
        "new=genres_based.groupby(['title','genres'])['movieId'].count().reset_index().sort_values('movieId',ascending=False)\n",
        "abc_set_index=new.set_index('title')\n",
        "abc_set_index"
      ],
      "metadata": {
        "id": "ARw2EjcpUj4d"
      },
      "execution_count": null,
      "outputs": []
    },
    {
      "cell_type": "code",
      "source": [
        "df=new.drop([\"movieId\"],axis=1)\n",
        "df"
      ],
      "metadata": {
        "id": "ws44IbxZUnIg"
      },
      "execution_count": null,
      "outputs": []
    },
    {
      "cell_type": "markdown",
      "source": [
        "##Additional/Optional: Create a GUI interface using Python libraries (ipywidgets etc.) to play around with the recommendation modules"
      ],
      "metadata": {
        "id": "L2nffhXmbg57"
      }
    },
    {
      "cell_type": "code",
      "source": [
        "import ipywidgets as widgets\n",
        "from IPython.display import display\n",
        "\n",
        "# Sample recommendation function\n",
        "def recommend_movies(genre, rating):\n",
        "    # Replace this with your recommendation logic\n",
        "    recommendations = df['title']\n",
        "    return recommendations\n",
        "\n",
        "# GUI function\n",
        "def recommend_movies_gui():\n",
        "    genre_dropdown = widgets.Dropdown(\n",
        "        options=['Action', 'Drama', 'Comedy', 'Sci-Fi'],\n",
        "        description='Genre:'\n",
        "    )\n",
        "    rating_slider = widgets.IntSlider(\n",
        "        value=5,\n",
        "        min=1,\n",
        "        max=10,\n",
        "        step=1,\n",
        "        description='Minimum Rating:'\n",
        "    )\n",
        "    recommend_button = widgets.Button(\n",
        "        description='Recommend Movies'\n",
        "    )\n",
        "    output = widgets.Output()\n",
        "\n",
        "    def on_recommend_button_clicked(b):\n",
        "        with output:\n",
        "            output.clear_output()\n",
        "            recommendations = recommend_movies(genre_dropdown.value, rating_slider.value)\n",
        "            print(\"Recommended Movies:\")\n",
        "            for movie in recommendations:\n",
        "              print(\"-\", movie)\n",
        "\n",
        "    recommend_button.on_click(on_recommend_button_clicked)\n",
        "\n",
        "    display(widgets.VBox([genre_dropdown, rating_slider, recommend_button, output]))\n",
        "\n",
        "# Run the GUI\n",
        "recommend_movies_gui()"
      ],
      "metadata": {
        "id": "hnDwux4Kqyce"
      },
      "execution_count": null,
      "outputs": []
    }
  ],
  "metadata": {
    "colab": {
      "provenance": []
    },
    "kernelspec": {
      "display_name": "Python 3",
      "name": "python3"
    },
    "language_info": {
      "name": "python"
    }
  },
  "nbformat": 4,
  "nbformat_minor": 0
}